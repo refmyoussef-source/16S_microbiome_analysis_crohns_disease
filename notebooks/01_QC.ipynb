{
 "cells": [
  {
   "cell_type": "markdown",
   "id": "b12376e8-4bf7-40e9-9ce3-72002e9012a5",
   "metadata": {},
   "source": [
    "# Notebook 01: Quality Control (QC)\n",
    "\n",
    "### Objective\n",
    "The goal of this notebook is to assess the quality of our 510 raw FASTQ files (255 paired-end samples).\n",
    "\n",
    "### Workflow\n",
    "1.  **Install Tools:** We will install `FastQC` and `MultiQC`.\n",
    "2.  **Run FastQC:** We will run `FastQC` on all 510 files located in `../data/raw_fastq/`.\n",
    "3.  **Run MultiQC:** We will use `MultiQC` to aggregate all the individual FastQC reports into a single, interactive HTML report.\n",
    "4.  **Analyze Report:** We will analyze the MultiQC report to determine the optimal **truncation lengths (trimming parameters)** for DADA2. This is the most critical step for ensuring a high-quality analysis."
   ]
  },
  {
   "cell_type": "code",
   "execution_count": null,
   "id": "885ce7f1-2e22-46cc-9d0e-53e67b26bbe6",
   "metadata": {},
   "outputs": [],
   "source": [
    "# Install FastQC and MultiQC using mamba\n",
    "# We install them into our active qiime2_env\n",
    "# -c bioconda: This is the best channel for these bioinformatics tools\n",
    "# -y: automatically says 'yes' to the installation prompt\n",
    "\n",
    "!mamba install -n qiime2_env -c bioconda fastqc multiqc -y"
   ]
  },
  {
   "cell_type": "markdown",
   "id": "28386b87-1713-4286-9e9f-5b287c2197d7",
   "metadata": {},
   "source": [
    "### 2. Run FastQC on all Samples\n",
    "\n",
    "Now we will run `FastQC` on all 510 `.fastq` files in parallel.\n",
    "\n",
    "**Workflow for this cell:**\n",
    "1.  **Create Output Directory:** We will create a new, clean directory `../results/01_fastqc_reports/` to store the 510 HTML reports.\n",
    "2.  **Run FastQC:** We will execute `fastqc` with the following key parameters:\n",
    "    * `--threads 8`: To use all 8 CPUs of our VM and speed up the process significantly.\n",
    "    * `-o ../results/01_fastqc_reports/`: Specifies the output directory we just created.\n",
    "    * `../data/raw_fastq/*.fastq`: The input files (the `*` is a wildcard meaning \"all files that end in .fastq\")."
   ]
  },
  {
   "cell_type": "code",
   "execution_count": null,
   "id": "5839e5ff-5c9b-41b3-85c4-ae24620638ab",
   "metadata": {},
   "outputs": [],
   "source": [
    "# 1. Create the output directory\n",
    "# The -p flag means \"don't complain if the folder already exists\"\n",
    "!mkdir -p ../results/01_fastqc_reports\n",
    "\n",
    "# 2. Run FastQC on all files\n",
    "# This command will take a long time (20-30+ minutes)\n",
    "!fastqc --threads 8 -o ../results/01_fastqc_reports/ ../data/raw_fastq/*.fastq"
   ]
  },
  {
   "cell_type": "markdown",
   "id": "1f597743-8972-4bdc-98a7-963fd6a63716",
   "metadata": {},
   "source": [
    "### 3. Verify FastQC Output\n",
    "\n",
    "Before running MultiQC, we must verify that FastQC ran successfully. We expect to find 1020 new files (510 `.html` reports + 510 `.zip` archives) in our output directory."
   ]
  },
  {
   "cell_type": "code",
   "execution_count": null,
   "id": "55d6bd45-53e5-4904-b896-f6fc81634409",
   "metadata": {},
   "outputs": [],
   "source": [
    "# First, let's count the total number of files in the directory\n",
    "!ls -lh ../results/01_fastqc_reports/ | wc -l"
   ]
  },
  {
   "cell_type": "markdown",
   "id": "e180865e-ac32-400f-b70f-e04e976dae25",
   "metadata": {},
   "source": [
    "### 4. Run MultiQC to Aggregate Reports\n",
    "\n",
    "Now that we have 1021 individual reports, we will use `MultiQC` to parse all of them and create a single, unified HTML report. This single report is what we will analyze to make our scientific decision.\n",
    "\n",
    "* **Input:** The `../results/01_fastqc_reports/` directory (which contains all the `.zip` and `.html` files).\n",
    "* **Output:** A new directory, `../results/02_multiqc_report/`, which will contain the final report."
   ]
  },
  {
   "cell_type": "code",
   "execution_count": null,
   "id": "e3f095d0-526b-46f6-bd78-fbdd4541c324",
   "metadata": {},
   "outputs": [],
   "source": [
    "# 1. Create the output directory for the MultiQC report\n",
    "!mkdir -p ../results/02_multiqc_report\n",
    "\n",
    "# 2. Run MultiQC\n",
    "# -o: Specify the output directory\n",
    "# The last argument is the input directory (where MultiQC should scan for reports)\n",
    "!multiqc -o ../results/02_multiqc_report/ ../results/01_fastqc_reports/"
   ]
  },
  {
   "cell_type": "code",
   "execution_count": null,
   "id": "e8fc3d93-2fed-4802-a9c1-135bd724f94c",
   "metadata": {},
   "outputs": [],
   "source": [
    "# List the contents of the MultiQC output directory\n",
    "!ls -lh ../results/02_multiqc_report/"
   ]
  },
  {
   "cell_type": "markdown",
   "id": "73c743ad-d019-4741-b9e0-911c6c21f6e5",
   "metadata": {},
   "source": [
    "### 6. Analysis and Conclusion\n",
    "\n",
    "**Finding:** The \"Per Base Sequence Quality\" plot (summarized by boxplots) shows **excellent quality** across the entire 160bp read length for *both* R1 (blue/purple cloud) and R2 (red cloud).\n",
    "\n",
    "**Decision:**\n",
    "The median quality (boxplot body) remains high (well within the green zone, Q > 30) for the full read length. Therefore, **no truncation (trimming) is necessary.** We will use the full 160bp for both forward and reverse reads.\n",
    "\n",
    "**Parameters for DADA2:**\n",
    "* `--p-trunc-len-f 160`\n",
    "* `--p-trunc-len-r 160`"
   ]
  }
 ],
 "metadata": {
  "kernelspec": {
   "display_name": "Python 3 (ipykernel)",
   "language": "python",
   "name": "python3"
  },
  "language_info": {
   "codemirror_mode": {
    "name": "ipython",
    "version": 3
   },
   "file_extension": ".py",
   "mimetype": "text/x-python",
   "name": "python",
   "nbconvert_exporter": "python",
   "pygments_lexer": "ipython3",
   "version": "3.14.0"
  }
 },
 "nbformat": 4,
 "nbformat_minor": 5
}
